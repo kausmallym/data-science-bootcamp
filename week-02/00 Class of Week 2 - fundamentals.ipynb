{
 "cells": [
  {
   "cell_type": "code",
   "execution_count": null,
   "id": "422fb333",
   "metadata": {},
   "outputs": [
    {
     "name": "stdout",
     "output_type": "stream",
     "text": [
      "alice\n"
     ]
    },
    {
     "data": {
      "text/plain": [
       "str"
      ]
     },
     "execution_count": 4,
     "metadata": {},
     "output_type": "execute_result"
    }
   ],
   "source": [
    "#class of 12/07/2025 - 15:30 to 16:30\n",
    "name = \"alice\"\n",
    "print(name)\n",
    "\n",
    "type(name)\n",
    "\n",
    "#naming conventions for variables:\n",
    "# cannot start with a number\n",
    "# cannot have spaces\n",
    "# start with lower case and use camel case\n",
    "# start with lower case and use underscore\n",
    "# can start with underscore\n",
    "\n",
    "#Python does not run the comments"
   ]
  },
  {
   "cell_type": "code",
   "execution_count": 5,
   "id": "f44d5846",
   "metadata": {},
   "outputs": [
    {
     "name": "stdout",
     "output_type": "stream",
     "text": [
      "20\n"
     ]
    }
   ],
   "source": [
    "x = 10;\n",
    "y = 2;\n",
    "z = 10 * 2;\n",
    "\n",
    "print(z)"
   ]
  },
  {
   "cell_type": "code",
   "execution_count": 6,
   "id": "ea389d68",
   "metadata": {},
   "outputs": [
    {
     "name": "stdout",
     "output_type": "stream",
     "text": [
      "20\n"
     ]
    }
   ],
   "source": [
    "#This is for calculating the total price of products\n",
    "numberProducts = 10\n",
    "priceProduct = 2\n",
    "\n",
    "totalPrice = numberProducts * priceProduct;\n",
    "print(totalPrice)"
   ]
  },
  {
   "cell_type": "code",
   "execution_count": 7,
   "id": "a5aa1a67",
   "metadata": {},
   "outputs": [
    {
     "name": "stdout",
     "output_type": "stream",
     "text": [
      "Hello 2\n"
     ]
    },
    {
     "data": {
      "text/plain": [
       "str"
      ]
     },
     "execution_count": 7,
     "metadata": {},
     "output_type": "execute_result"
    }
   ],
   "source": [
    "name = input(\"Enter your name: \");\n",
    "print(\"Hello \"+name);\n",
    "\n",
    "type(name)"
   ]
  },
  {
   "cell_type": "code",
   "execution_count": null,
   "id": "997dd583",
   "metadata": {},
   "outputs": [
    {
     "name": "stdout",
     "output_type": "stream",
     "text": [
      "23\n"
     ]
    }
   ],
   "source": [
    "num1 = input(\"Enter num 1: \");\n",
    "num2 = input(\"Enter num 2: \");\n",
    "print(num1 + num2); #displays 23"
   ]
  },
  {
   "cell_type": "code",
   "execution_count": 10,
   "id": "f9feb3af",
   "metadata": {},
   "outputs": [
    {
     "name": "stdout",
     "output_type": "stream",
     "text": [
      "5\n"
     ]
    }
   ],
   "source": [
    "num1 = int(input(\"Enter num 1: \"));\n",
    "num2 = int(input(\"Enter num 2: \"));\n",
    "print(num1 + num2); #displays 5"
   ]
  },
  {
   "cell_type": "code",
   "execution_count": null,
   "id": "fee893b4",
   "metadata": {},
   "outputs": [],
   "source": [
    "#sum, difference, \n",
    "# product\n",
    "# quotient - /\n",
    "# modulus - %"
   ]
  },
  {
   "cell_type": "code",
   "execution_count": 11,
   "id": "a5a80ee8",
   "metadata": {},
   "outputs": [
    {
     "data": {
      "text/plain": [
       "5.0"
      ]
     },
     "execution_count": 11,
     "metadata": {},
     "output_type": "execute_result"
    }
   ],
   "source": [
    "10/2"
   ]
  },
  {
   "cell_type": "code",
   "execution_count": 13,
   "id": "64e4f42b",
   "metadata": {},
   "outputs": [
    {
     "data": {
      "text/plain": [
       "3"
      ]
     },
     "execution_count": 13,
     "metadata": {},
     "output_type": "execute_result"
    }
   ],
   "source": [
    "#floor\n",
    "7 // 2\n"
   ]
  },
  {
   "cell_type": "code",
   "execution_count": null,
   "id": "7f48f9cf",
   "metadata": {},
   "outputs": [
    {
     "name": "stderr",
     "output_type": "stream",
     "text": [
      "<string>:9: SyntaxWarning: invalid escape sequence '\\{'\n",
      "<>:9: SyntaxWarning: invalid escape sequence '\\{'\n",
      "<string>:9: SyntaxWarning: invalid escape sequence '\\{'\n",
      "<>:9: SyntaxWarning: invalid escape sequence '\\{'\n",
      "C:\\Users\\SD360137\\AppData\\Local\\Temp\\ipykernel_29180\\76196217.py:9: SyntaxWarning: invalid escape sequence '\\{'\n",
      "  print(f\"Hi I am {name}, and my age is \\{\"{age}\")\n"
     ]
    },
    {
     "ename": "SyntaxError",
     "evalue": "f-string: unmatched ')' (76196217.py, line 9)",
     "output_type": "error",
     "traceback": [
      "  \u001b[36mCell\u001b[39m\u001b[36m \u001b[39m\u001b[32mIn[8]\u001b[39m\u001b[32m, line 9\u001b[39m\n\u001b[31m    \u001b[39m\u001b[31mprint(f\"Hi I am {name}, and my age is \\{\"{age}\")\u001b[39m\n                                                   ^\n\u001b[31mSyntaxError\u001b[39m\u001b[31m:\u001b[39m f-string: unmatched ')'\n"
     ]
    }
   ],
   "source": [
    "name = \"Alice\"\n",
    "age = 30\n",
    "is_student = True\n",
    "\n",
    "print(\"Hi, I am \", name, \"and my age is \", age)\n",
    "\n",
    "#fstrings - string interpolation\n",
    "print(f\"Hi I am {name}, and my age is {age}\")\n",
    "#print(f\"Hi I am {name}, and my age is {\"{age}\") - escape character - to review\n",
    "\n",
    "#formatted strings\n",
    "print(\"Hi I am {}, and my age is {}\".format(name, age))\n",
    "\n",
    "#formatted strings\n",
    "print(\"Hi I am {}, and my age is {}\".format(name, age))\n",
    "\n",
    "#formatted strings with named placeholders\n",
    "print(\"Hi I am {a}, and my age is {b}. My beautiful name is {a}\".format(a=name, b=age))\n",
    "\n"
   ]
  },
  {
   "cell_type": "code",
   "execution_count": 10,
   "id": "71bb8471",
   "metadata": {},
   "outputs": [
    {
     "name": "stdout",
     "output_type": "stream",
     "text": [
      "False\n",
      "True\n"
     ]
    }
   ],
   "source": [
    "#Comparison Operators\n",
    "# == Equal to\n",
    "# != Not equal to\n",
    "# < less than\n",
    "\n",
    "print(10<10)\n",
    "\n",
    "print(10<=10)"
   ]
  },
  {
   "cell_type": "code",
   "execution_count": null,
   "id": "0522b7dc",
   "metadata": {},
   "outputs": [
    {
     "name": "stdout",
     "output_type": "stream",
     "text": [
      "Turn on AC\n"
     ]
    }
   ],
   "source": [
    "\n",
    "roomtemp = 26\n",
    "if roomtemp > 25:\n",
    "    print(\"Turn on AC\")"
   ]
  },
  {
   "cell_type": "code",
   "execution_count": 14,
   "id": "1196ed43",
   "metadata": {},
   "outputs": [
    {
     "name": "stdout",
     "output_type": "stream",
     "text": [
      "Turn off AC\n"
     ]
    }
   ],
   "source": [
    "roomtemp = 20\n",
    "if roomtemp > 25:\n",
    "    print(\"Turn on AC\")\n",
    "else:\n",
    "    print(\"Turn off AC\")"
   ]
  },
  {
   "cell_type": "code",
   "execution_count": null,
   "id": "30d089cd",
   "metadata": {},
   "outputs": [
    {
     "name": "stdout",
     "output_type": "stream",
     "text": [
      "AC is not needed\n"
     ]
    }
   ],
   "source": [
    "#multiple conditions\n",
    "roomtemp = 20\n",
    "if roomtemp > 25:\n",
    "    print(\"Turn on AC\")\n",
    "elif roomtemp < 20:\n",
    "    print(\"Turn off AC\")\n",
    "else:\n",
    "    print(\"AC is not needed\")"
   ]
  },
  {
   "cell_type": "code",
   "execution_count": 30,
   "id": "d33d7c55",
   "metadata": {},
   "outputs": [
    {
     "name": "stdout",
     "output_type": "stream",
     "text": [
      "Hello world\n",
      "Hello world\n",
      "Hello world\n",
      "Hello world\n",
      "Hello world\n",
      "1\n",
      "2\n",
      "3\n",
      "4\n",
      "Hello world\n",
      "Hello world\n",
      "2\n",
      "4\n",
      "6\n",
      "8\n",
      "10\n",
      "5\n",
      "4\n",
      "3\n",
      "2\n",
      "1\n"
     ]
    }
   ],
   "source": [
    "#Loops\n",
    "for i in range(5):\n",
    "    print(\"Hello world\");\n",
    "\n",
    "for i in range(1,5): #starting inclusive, ending exclusive\n",
    "    print(i);\n",
    "\n",
    "for i in range(1,3):\n",
    "    print(\"Hello world\");\n",
    "\n",
    "for i in range(0, 11, 2):\n",
    "    if(i!=0):\n",
    "        print(i);\n",
    "\n",
    "for i in range(5, 0, -1):\n",
    "    if(i!=0):\n",
    "        print(i);"
   ]
  },
  {
   "cell_type": "code",
   "execution_count": null,
   "id": "3e8f0c7a",
   "metadata": {},
   "outputs": [
    {
     "name": "stdout",
     "output_type": "stream",
     "text": [
      "1\n",
      "2\n",
      "3\n",
      "4\n",
      "4\n",
      "5\n",
      "6\n",
      "7\n",
      "8\n",
      "9\n"
     ]
    }
   ],
   "source": [
    "i = 1;\n",
    "while i < 5:\n",
    "    print(i);\n",
    "    i+=1;\n",
    "\n",
    "\n",
    "i = 4;\n",
    "while i < 10:\n",
    "    print(i);\n",
    "    i+=1;\n",
    "\n",
    "\n",
    "\n",
    "i = 0;\n",
    "\n",
    "while i<10:\n",
    "    if i ==5:\n",
    "        i+=1;\n",
    "        continue\n",
    "\n",
    "    if i==8:\n",
    "        break;\n",
    "\n",
    "    print(i)\n",
    "    i+=1;\n",
    "\n",
    "#Break - breaks the current execution\n",
    "#Continue - skips the current iteration\n"
   ]
  },
  {
   "cell_type": "code",
   "execution_count": null,
   "id": "9b46c695",
   "metadata": {},
   "outputs": [],
   "source": [
    "\n",
    "while True:\n",
    "    print(\"This is aninfinite loop until i = 3\");\n",
    "\n",
    "    if(i==3):\n",
    "        print(\"Breaking the loop at i = \",i)\n",
    "        break #breaks the loop immediately\n",
    "\n",
    "#Break - breaks the current execution\n",
    "#Continue - skips the current iteration"
   ]
  },
  {
   "cell_type": "code",
   "execution_count": 27,
   "id": "2ba67880",
   "metadata": {},
   "outputs": [
    {
     "name": "stdout",
     "output_type": "stream",
     "text": [
      "Value is 2\n"
     ]
    }
   ],
   "source": [
    "#match case\n",
    "value = 2\n",
    "match value:\n",
    "    case 1:\n",
    "        print(\"Value is 1\");\n",
    "    case 2:\n",
    "        print(\"Value is 2\");\n",
    "    case _:\n",
    "        print(\"Value is something else\");\n"
   ]
  },
  {
   "cell_type": "code",
   "execution_count": null,
   "id": "9fe4cce0",
   "metadata": {},
   "outputs": [
    {
     "name": "stdout",
     "output_type": "stream",
     "text": [
      "Meet condition\n",
      "Meet condition\n"
     ]
    }
   ],
   "source": [
    "val = 50;\n",
    "\n",
    "if(val <10 or val > 30):\n",
    "    print(\"Meet condition\")\n",
    "\n",
    "if(False or True):\n",
    "    print(\"Meet condition\")\n",
    "\n",
    "if(not(val <10) or val > 30):\n",
    "    print(\"Meet condition\")\n"
   ]
  },
  {
   "cell_type": "code",
   "execution_count": 50,
   "id": "fd8a1c35",
   "metadata": {},
   "outputs": [
    {
     "name": "stdout",
     "output_type": "stream",
     "text": [
      "Total Score: 325\n",
      "Letter Grade: A\n"
     ]
    }
   ],
   "source": [
    "#Practical - Simple Grade Calculator\n",
    "\n",
    "numberOfSubjects = int(input(\"Please enter the number of subjects: \"));\n",
    "totalMarks = 0;\n",
    "for i in range(numberOfSubjects):\n",
    "    totalMarks += int(input(f\"Enter mark for subject {i+1}: \"));\n",
    "print(f\"Total Score: {totalMarks}\");\n",
    "\n",
    "#totalMarks = 59;\n",
    "\n",
    "if totalMarks >= 90:\n",
    "    print(\"Letter Grade: A\");\n",
    "elif totalMarks >= 80 and totalMarks <=89:\n",
    "    print(\"Letter Grade: B\");\n",
    "elif totalMarks >= 70 and totalMarks <=79:\n",
    "    print(\"C\");\n",
    "elif totalMarks >= 60 and totalMarks <=69:\n",
    "    print(\"Letter Grade: D\");\n",
    "else:\n",
    "    print(\"Letter Grade: F\");\n",
    "\n"
   ]
  }
 ],
 "metadata": {
  "kernelspec": {
   "display_name": "Python 3",
   "language": "python",
   "name": "python3"
  },
  "language_info": {
   "codemirror_mode": {
    "name": "ipython",
    "version": 3
   },
   "file_extension": ".py",
   "mimetype": "text/x-python",
   "name": "python",
   "nbconvert_exporter": "python",
   "pygments_lexer": "ipython3",
   "version": "3.13.5"
  }
 },
 "nbformat": 4,
 "nbformat_minor": 5
}
