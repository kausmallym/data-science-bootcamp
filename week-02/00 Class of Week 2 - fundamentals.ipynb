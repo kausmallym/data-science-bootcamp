{
 "cells": [
  {
   "cell_type": "code",
   "execution_count": 4,
   "id": "422fb333",
   "metadata": {},
   "outputs": [
    {
     "name": "stdout",
     "output_type": "stream",
     "text": [
      "alice\n"
     ]
    },
    {
     "data": {
      "text/plain": [
       "str"
      ]
     },
     "execution_count": 4,
     "metadata": {},
     "output_type": "execute_result"
    }
   ],
   "source": [
    "#class of 12/07/2025\n",
    "name = \"alice\"\n",
    "print(name)\n",
    "\n",
    "type(name)\n",
    "\n",
    "#naming conventions for variables:\n",
    "# cannot start with a number\n",
    "# cannot have spaces\n",
    "# start with lower case and use camel case\n",
    "# start with lower case and use underscore\n",
    "# can start with underscore\n",
    "\n",
    "#Python does not run the comments"
   ]
  },
  {
   "cell_type": "code",
   "execution_count": 5,
   "id": "f44d5846",
   "metadata": {},
   "outputs": [
    {
     "name": "stdout",
     "output_type": "stream",
     "text": [
      "20\n"
     ]
    }
   ],
   "source": [
    "x = 10;\n",
    "y = 2;\n",
    "z = 10 * 2;\n",
    "\n",
    "print(z)"
   ]
  },
  {
   "cell_type": "code",
   "execution_count": 6,
   "id": "ea389d68",
   "metadata": {},
   "outputs": [
    {
     "name": "stdout",
     "output_type": "stream",
     "text": [
      "20\n"
     ]
    }
   ],
   "source": [
    "#This is for calculating the total price of products\n",
    "numberProducts = 10\n",
    "priceProduct = 2\n",
    "\n",
    "totalPrice = numberProducts * priceProduct;\n",
    "print(totalPrice)"
   ]
  },
  {
   "cell_type": "code",
   "execution_count": 7,
   "id": "a5aa1a67",
   "metadata": {},
   "outputs": [
    {
     "name": "stdout",
     "output_type": "stream",
     "text": [
      "Hello 2\n"
     ]
    },
    {
     "data": {
      "text/plain": [
       "str"
      ]
     },
     "execution_count": 7,
     "metadata": {},
     "output_type": "execute_result"
    }
   ],
   "source": [
    "name = input(\"Enter your name: \");\n",
    "print(\"Hello \"+name);\n",
    "\n",
    "type(name)"
   ]
  },
  {
   "cell_type": "code",
   "execution_count": null,
   "id": "997dd583",
   "metadata": {},
   "outputs": [
    {
     "name": "stdout",
     "output_type": "stream",
     "text": [
      "23\n"
     ]
    }
   ],
   "source": [
    "num1 = input(\"Enter num 1: \");\n",
    "num2 = input(\"Enter num 2: \");\n",
    "print(num1 + num2); #displays 23"
   ]
  },
  {
   "cell_type": "code",
   "execution_count": 10,
   "id": "f9feb3af",
   "metadata": {},
   "outputs": [
    {
     "name": "stdout",
     "output_type": "stream",
     "text": [
      "5\n"
     ]
    }
   ],
   "source": [
    "num1 = int(input(\"Enter num 1: \"));\n",
    "num2 = int(input(\"Enter num 2: \"));\n",
    "print(num1 + num2); #displays 5"
   ]
  },
  {
   "cell_type": "code",
   "execution_count": null,
   "id": "fee893b4",
   "metadata": {},
   "outputs": [],
   "source": [
    "#sum, difference, \n",
    "# product\n",
    "# quotient - /\n",
    "# modulus - %"
   ]
  },
  {
   "cell_type": "code",
   "execution_count": 11,
   "id": "a5a80ee8",
   "metadata": {},
   "outputs": [
    {
     "data": {
      "text/plain": [
       "5.0"
      ]
     },
     "execution_count": 11,
     "metadata": {},
     "output_type": "execute_result"
    }
   ],
   "source": [
    "10/2"
   ]
  },
  {
   "cell_type": "code",
   "execution_count": 13,
   "id": "64e4f42b",
   "metadata": {},
   "outputs": [
    {
     "data": {
      "text/plain": [
       "3"
      ]
     },
     "execution_count": 13,
     "metadata": {},
     "output_type": "execute_result"
    }
   ],
   "source": [
    "#floor\n",
    "7 // 2\n"
   ]
  },
  {
   "cell_type": "code",
   "execution_count": null,
   "id": "7f48f9cf",
   "metadata": {},
   "outputs": [
    {
     "name": "stderr",
     "output_type": "stream",
     "text": [
      "<string>:9: SyntaxWarning: invalid escape sequence '\\{'\n",
      "<>:9: SyntaxWarning: invalid escape sequence '\\{'\n",
      "<string>:9: SyntaxWarning: invalid escape sequence '\\{'\n",
      "<>:9: SyntaxWarning: invalid escape sequence '\\{'\n",
      "C:\\Users\\SD360137\\AppData\\Local\\Temp\\ipykernel_29180\\76196217.py:9: SyntaxWarning: invalid escape sequence '\\{'\n",
      "  print(f\"Hi I am {name}, and my age is \\{\"{age}\")\n"
     ]
    },
    {
     "ename": "SyntaxError",
     "evalue": "f-string: unmatched ')' (76196217.py, line 9)",
     "output_type": "error",
     "traceback": [
      "  \u001b[36mCell\u001b[39m\u001b[36m \u001b[39m\u001b[32mIn[8]\u001b[39m\u001b[32m, line 9\u001b[39m\n\u001b[31m    \u001b[39m\u001b[31mprint(f\"Hi I am {name}, and my age is \\{\"{age}\")\u001b[39m\n                                                   ^\n\u001b[31mSyntaxError\u001b[39m\u001b[31m:\u001b[39m f-string: unmatched ')'\n"
     ]
    }
   ],
   "source": [
    "name = \"Alice\"\n",
    "age = 30\n",
    "is_student = True\n",
    "\n",
    "print(\"Hi, I am \", name, \"and my age is \", age)\n",
    "\n",
    "#fstrings - string interpolation\n",
    "print(f\"Hi I am {name}, and my age is {age}\")\n",
    "#print(f\"Hi I am {name}, and my age is {\"{age}\") - escape character - to review\n",
    "\n",
    "#formatted strings\n",
    "print(\"Hi I am {}, and my age is {}\".format(name, age))\n",
    "\n",
    "#formatted strings\n",
    "print(\"Hi I am {}, and my age is {}\".format(name, age))\n",
    "\n",
    "#formatted strings with named placeholders\n",
    "print(\"Hi I am {a}, and my age is {b}. My beautiful name is {a}\".format(a=name, b=age))\n",
    "\n"
   ]
  }
 ],
 "metadata": {
  "kernelspec": {
   "display_name": "Python 3",
   "language": "python",
   "name": "python3"
  },
  "language_info": {
   "codemirror_mode": {
    "name": "ipython",
    "version": 3
   },
   "file_extension": ".py",
   "mimetype": "text/x-python",
   "name": "python",
   "nbconvert_exporter": "python",
   "pygments_lexer": "ipython3",
   "version": "3.13.5"
  }
 },
 "nbformat": 4,
 "nbformat_minor": 5
}
