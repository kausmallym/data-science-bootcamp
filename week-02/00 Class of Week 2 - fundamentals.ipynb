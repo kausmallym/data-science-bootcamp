{
 "cells": [
  {
   "cell_type": "code",
   "execution_count": 4,
   "id": "422fb333",
   "metadata": {},
   "outputs": [
    {
     "name": "stdout",
     "output_type": "stream",
     "text": [
      "alice\n"
     ]
    },
    {
     "data": {
      "text/plain": [
       "str"
      ]
     },
     "execution_count": 4,
     "metadata": {},
     "output_type": "execute_result"
    }
   ],
   "source": [
    "#class of 12/07/2025\n",
    "name = \"alice\"\n",
    "print(name)\n",
    "\n",
    "type(name)\n",
    "\n",
    "#naming conventions for variables:\n",
    "# cannot start with a number\n",
    "# cannot have spaces\n",
    "# start with lower case and use camel case\n",
    "# start with lower case and use underscore\n",
    "# can start with underscore\n",
    "\n",
    "#Python does not run the comments"
   ]
  },
  {
   "cell_type": "code",
   "execution_count": 5,
   "id": "f44d5846",
   "metadata": {},
   "outputs": [
    {
     "name": "stdout",
     "output_type": "stream",
     "text": [
      "20\n"
     ]
    }
   ],
   "source": [
    "x = 10;\n",
    "y = 2;\n",
    "z = 10 * 2;\n",
    "\n",
    "print(z)"
   ]
  },
  {
   "cell_type": "code",
   "execution_count": 6,
   "id": "ea389d68",
   "metadata": {},
   "outputs": [
    {
     "name": "stdout",
     "output_type": "stream",
     "text": [
      "20\n"
     ]
    }
   ],
   "source": [
    "#This is for calculating the total price of products\n",
    "numberProducts = 10\n",
    "priceProduct = 2\n",
    "\n",
    "totalPrice = numberProducts * priceProduct;\n",
    "print(totalPrice)"
   ]
  },
  {
   "cell_type": "code",
   "execution_count": 7,
   "id": "a5aa1a67",
   "metadata": {},
   "outputs": [
    {
     "name": "stdout",
     "output_type": "stream",
     "text": [
      "Hello 2\n"
     ]
    },
    {
     "data": {
      "text/plain": [
       "str"
      ]
     },
     "execution_count": 7,
     "metadata": {},
     "output_type": "execute_result"
    }
   ],
   "source": [
    "name = input(\"Enter your name: \");\n",
    "print(\"Hello \"+name);\n",
    "\n",
    "type(name)"
   ]
  },
  {
   "cell_type": "code",
   "execution_count": null,
   "id": "997dd583",
   "metadata": {},
   "outputs": [
    {
     "name": "stdout",
     "output_type": "stream",
     "text": [
      "23\n"
     ]
    }
   ],
   "source": [
    "num1 = input(\"Enter num 1: \");\n",
    "num2 = input(\"Enter num 2: \");\n",
    "print(num1 + num2); #displays 23"
   ]
  },
  {
   "cell_type": "code",
   "execution_count": 10,
   "id": "f9feb3af",
   "metadata": {},
   "outputs": [
    {
     "name": "stdout",
     "output_type": "stream",
     "text": [
      "5\n"
     ]
    }
   ],
   "source": [
    "num1 = int(input(\"Enter num 1: \"));\n",
    "num2 = int(input(\"Enter num 2: \"));\n",
    "print(num1 + num2); #displays 5"
   ]
  },
  {
   "cell_type": "code",
   "execution_count": null,
   "id": "fee893b4",
   "metadata": {},
   "outputs": [],
   "source": [
    "#sum, difference, \n",
    "# product\n",
    "# quotient - /\n",
    "# modulus - %"
   ]
  }
 ],
 "metadata": {
  "kernelspec": {
   "display_name": "Python 3",
   "language": "python",
   "name": "python3"
  },
  "language_info": {
   "codemirror_mode": {
    "name": "ipython",
    "version": 3
   },
   "file_extension": ".py",
   "mimetype": "text/x-python",
   "name": "python",
   "nbconvert_exporter": "python",
   "pygments_lexer": "ipython3",
   "version": "3.13.5"
  }
 },
 "nbformat": 4,
 "nbformat_minor": 5
}
