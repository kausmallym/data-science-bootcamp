{
 "cells": [
  {
   "cell_type": "code",
   "execution_count": null,
   "id": "422fb333",
   "metadata": {},
   "outputs": [],
   "source": [
    "#class of 12/07/2025\n",
    "name = \"alice\"\n",
    "print(name)\n",
    "\n",
    "type(name)"
   ]
  }
 ],
 "metadata": {
  "language_info": {
   "name": "python"
  }
 },
 "nbformat": 4,
 "nbformat_minor": 5
}
