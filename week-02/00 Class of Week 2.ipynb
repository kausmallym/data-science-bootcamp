{
 "cells": [
  {
   "cell_type": "code",
   "execution_count": null,
   "id": "422fb333",
   "metadata": {},
   "outputs": [],
   "source": [
    "#class of 12/07/2025\n",
    "name = \"alice\"\n",
    "print(name)\n",
    "\n",
    "type(name)\n",
    "\n",
    "#naming conventions for variables:\n",
    "# cannot start with a number\n",
    "# cannot have spaces\n",
    "# start with lower case and use camel case\n",
    "# start with lower case and use underscore\n",
    "# can start with underscore\n",
    "\n",
    "#Python does not run the comments"
   ]
  },
  {
   "cell_type": "code",
   "execution_count": null,
   "id": "f44d5846",
   "metadata": {},
   "outputs": [],
   "source": [
    "x = 10;\n",
    "y = 2;\n",
    "z = 10 * 2;\n",
    "\n",
    "print(z)"
   ]
  },
  {
   "cell_type": "code",
   "execution_count": null,
   "id": "ea389d68",
   "metadata": {},
   "outputs": [],
   "source": [
    "#This is for calculating the total price of products\n",
    "numberProducts = 10\n",
    "priceProduct = 2\n",
    "\n",
    "totalPrice = numberProducts * priceProduct;\n",
    "print(totalPrice)"
   ]
  }
 ],
 "metadata": {
  "language_info": {
   "name": "python"
  }
 },
 "nbformat": 4,
 "nbformat_minor": 5
}
