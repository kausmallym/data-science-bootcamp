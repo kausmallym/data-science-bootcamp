{
 "cells": [
  {
   "cell_type": "code",
   "execution_count": 8,
   "id": "af62a2db",
   "metadata": {},
   "outputs": [
    {
     "name": "stdout",
     "output_type": "stream",
     "text": [
      "This is a Python script with single and multi-line comments.\n"
     ]
    }
   ],
   "source": [
    "#Single line comment\n",
    "\n",
    "\"\"\"\n",
    "Multi-line comment.This is a Python script that demonstrates the use of comments.\n",
    "\"\"\"\n",
    "print(\"This is a Python script with single and multi-line comments.\")\n"
   ]
  },
  {
   "cell_type": "code",
   "execution_count": null,
   "id": "384d8e81",
   "metadata": {},
   "outputs": [
    {
     "name": "stdout",
     "output_type": "stream",
     "text": [
      "2\n",
      "2.0\n",
      "2.0\n",
      "True\n",
      "\n"
     ]
    }
   ],
   "source": [
    "#Data Types\n",
    "myInteger = 2;\n",
    "print(myInteger);\n",
    "myFloat = float(myInteger); #Converts integer to float\n",
    "print(myFloat);\n",
    "myString  = str(myFloat); #Converts float to string\n",
    "print(myString);\n",
    "myBoolean = bool(myString); #Converts string to boolean\n",
    "print(myBoolean); #Result is true\n",
    "\"\"\"\"\n",
    "In Python, when you convert a non-empty string to a boolean using bool(), the result is always True. \n",
    "This is because any non-empty string is considered True in a boolean context.\n",
    "\"\"\"\n",
    "print(\"\");\n"
   ]
  },
  {
   "cell_type": "code",
   "execution_count": null,
   "id": "519863f2",
   "metadata": {},
   "outputs": [
    {
     "name": "stdout",
     "output_type": "stream",
     "text": [
      "Hello, World!\n",
      "42\n",
      "The value of my variable is  42\n"
     ]
    }
   ],
   "source": [
    "#Output\n",
    "#Print a string to the console\n",
    "print(\"Hello, world!\");\n",
    "\n",
    "#Print a variable to the console\n",
    "myVariable = 42;\n",
    "print(myVariable);\n",
    "print(\"The value of my variable is \", myVariable);"
   ]
  }
 ],
 "metadata": {
  "kernelspec": {
   "display_name": "Python 3",
   "language": "python",
   "name": "python3"
  },
  "language_info": {
   "codemirror_mode": {
    "name": "ipython",
    "version": 3
   },
   "file_extension": ".py",
   "mimetype": "text/x-python",
   "name": "python",
   "nbconvert_exporter": "python",
   "pygments_lexer": "ipython3",
   "version": "3.13.5"
  }
 },
 "nbformat": 4,
 "nbformat_minor": 5
}
