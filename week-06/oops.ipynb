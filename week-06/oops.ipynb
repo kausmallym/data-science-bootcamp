{
 "cells": [
  {
   "cell_type": "code",
   "execution_count": 1,
   "id": "e77c9121",
   "metadata": {},
   "outputs": [
    {
     "name": "stdout",
     "output_type": "stream",
     "text": [
      "<class 'int'>\n"
     ]
    }
   ],
   "source": [
    "x = 10;\n",
    "\n",
    "print(type(x));"
   ]
  },
  {
   "cell_type": "code",
   "execution_count": 4,
   "id": "76248d38",
   "metadata": {},
   "outputs": [
    {
     "name": "stdout",
     "output_type": "stream",
     "text": [
      "<class 'list'>\n",
      "[2, 4, 6]\n"
     ]
    }
   ],
   "source": [
    "x=[2,6,4];\n",
    "\n",
    "print(type(x))\n",
    "\n",
    "x.sort()\n",
    "print(x)"
   ]
  },
  {
   "cell_type": "code",
   "execution_count": 16,
   "id": "cb5b72b5",
   "metadata": {},
   "outputs": [
    {
     "name": "stdout",
     "output_type": "stream",
     "text": [
      "Red Toyota Passo, other details: YY NV 22, 1200cc, 90000, 2022\n",
      "Blue Toyota Passo, other details: YY NV 22, 1200cc, 90000, 2022\n",
      "1200cc\n",
      "Blue Toyota Axio, other details: YY NV 22, 1200cc, 90000, 2022\n",
      "Red Toyota Passo, other details: YY NV 22, 1200cc, 90000,2022\n",
      "Red Toyota Passo, other details: YY NV 22, 1200cc, 90050,2022\n"
     ]
    }
   ],
   "source": [
    "class Car:\n",
    "    def __init__ (self, regNo, color, make, model, fuel, mileage, year):\n",
    "        self.regNo = regNo;\n",
    "        self.color = color;\n",
    "        self.make = make;\n",
    "        self.model = model;\n",
    "        self.fuel = fuel;\n",
    "        self.mileage = mileage;\n",
    "        self.year = year;\n",
    "    \n",
    "    def __repr__(self):\n",
    "        return(f\"{self.color} {self.make} {self.model}, other details: {self.regNo}, {self.fuel}, {self.mileage},{self.year}\" );\n",
    "\n",
    "    def PrintCarDetails(self):\n",
    "        print(f\"{self.color} {self.make} {self.model}, other details: {self.regNo}, {self.fuel}, {self.mileage}, {self.year}\" );\n",
    "\n",
    "    def Drive(self, distance):\n",
    "        self.mileage+=distance;\n",
    "\n",
    "#create an object of type Car\n",
    "myCar = Car(\"YY NV 22\", \"Red\", \"Toyota\", \"Passo\", \"1200cc\", 90000, 2022);\n",
    "myCar.PrintCarDetails();\n",
    "\n",
    "blueCar = Car(\"YY NV 22\", \"Blue\", \"Toyota\", \"Passo\", \"1200cc\", 90000, 2022);\n",
    "blueCar.PrintCarDetails();\n",
    "\n",
    "print(blueCar.fuel) #accessing the fuel attribute\n",
    "\n",
    "blueCar.model = \"Axio\"; #changing the model attribute\n",
    "blueCar.PrintCarDetails();\n",
    "\n",
    "print(myCar); #printing using the __repr__ function\n",
    "myCar.Drive(50);\n",
    "print(myCar);\n"
   ]
  },
  {
   "cell_type": "code",
   "execution_count": 25,
   "id": "96232dd6",
   "metadata": {},
   "outputs": [
    {
     "name": "stdout",
     "output_type": "stream",
     "text": [
      "12345678, John Doe, 123 Main St, 50000\n",
      "NIC: 12345678, Name: John Doe, Address: 123 Main St, Salary: 50000\n",
      "12345678, John Doe, 123 Main St, 60000\n",
      "The benefit is ok, salary > 50000\n",
      "False\n"
     ]
    }
   ],
   "source": [
    "#Practical\n",
    "class Person:\n",
    "    def __init__(self, nic, name, address, salary):\n",
    "        self.nic = nic;\n",
    "        self.name = name;\n",
    "        self.address = address;\n",
    "        self.salary = salary;\n",
    "\n",
    "    def __repr__(self):\n",
    "        return(f\"{self.nic}, {self.name}, {self.address}, {self.salary}\");\n",
    "\n",
    "    def DisplayInfo(self):\n",
    "        print(f\"NIC: {self.nic}, Name: {self.name}, Address: {self.address}, Salary: {self.salary}\");\n",
    "\n",
    "    def CheckBenefit(self):\n",
    "        return self.salary >50000;\n",
    "\n",
    "\n",
    "person1 = Person(\"12345678\", \"John Doe\", \"123 Main St\", 50000);\n",
    "\n",
    "print(person1);\n",
    "person1.DisplayInfo();\n",
    "person1.CheckBenefit();\n",
    "\n",
    "person2 = Person(\"12345678\", \"John Doe\", \"123 Main St\", 60000);\n",
    "\n",
    "print(person2);\n",
    "if(person2.CheckBenefit()):\n",
    "    print(\"The benefit is ok, salary > 50000\");\n",
    "else:\n",
    "    print(\"benefit not ok\");\n",
    "\n",
    "print(person1.CheckBenefit());\n",
    "\n",
    "\n"
   ]
  }
 ],
 "metadata": {
  "kernelspec": {
   "display_name": "Python 3",
   "language": "python",
   "name": "python3"
  },
  "language_info": {
   "codemirror_mode": {
    "name": "ipython",
    "version": 3
   },
   "file_extension": ".py",
   "mimetype": "text/x-python",
   "name": "python",
   "nbconvert_exporter": "python",
   "pygments_lexer": "ipython3",
   "version": "3.13.5"
  }
 },
 "nbformat": 4,
 "nbformat_minor": 5
}
