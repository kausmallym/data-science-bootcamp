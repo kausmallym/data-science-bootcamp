{
 "cells": [
  {
   "cell_type": "code",
   "execution_count": null,
   "id": "15136335",
   "metadata": {},
   "outputs": [],
   "source": [
    "#pypi library"
   ]
  },
  {
   "cell_type": "code",
   "execution_count": 2,
   "id": "31d08429",
   "metadata": {},
   "outputs": [
    {
     "name": "stdout",
     "output_type": "stream",
     "text": [
      "8.0\n",
      "10.0\n",
      "24\n"
     ]
    }
   ],
   "source": [
    "import math\n",
    "\n",
    "result = math.pow(2,3);\n",
    "print(result);\n",
    "\n",
    "print(math.sqrt(100))\n",
    "print(math.factorial(4))"
   ]
  },
  {
   "cell_type": "code",
   "execution_count": 5,
   "id": "b388461d",
   "metadata": {},
   "outputs": [
    {
     "name": "stdout",
     "output_type": "stream",
     "text": [
      "10.0\n",
      "8\n"
     ]
    }
   ],
   "source": [
    "#importing specific functions from a module\n",
    "from math import sqrt\n",
    "\n",
    "print(sqrt(100));\n",
    "print(pow(2,3));"
   ]
  },
  {
   "cell_type": "code",
   "execution_count": null,
   "id": "493f122c",
   "metadata": {},
   "outputs": [
    {
     "name": "stdout",
     "output_type": "stream",
     "text": [
      "6.0\n",
      "8\n",
      "dice1result: 3\n",
      "dice2result: 6\n",
      "sum of dices results: 9\n",
      "The current date and time is 2025-07-26 15:07:05.972863\n",
      "34\n"
     ]
    }
   ],
   "source": [
    "#Practical\n",
    "import math\n",
    "import random\n",
    "import datetime\n",
    "\n",
    "print(math.sqrt(36));\n",
    "print(random.randint(1,10));\n",
    "\n",
    "def roll_dice():\n",
    "    dice1result = random.randint(1,6);\n",
    "    dice2result = random.randint(1,6);\n",
    "    print(f\"dice1result: {dice1result}\");\n",
    "    print(f\"dice2result: {dice2result}\");\n",
    "    print(f\"sum of dices results: {dice1result+dice2result}\");\n",
    "\n",
    "roll_dice();\n",
    "\n",
    "#print the current date and time\n",
    "print(f\"The current date and time is {datetime.datetime.now()}\")\n",
    "\n",
    "def calculate_age(birthYear):\n",
    "    print(datetime.datetime.now().year - birthYear);\n",
    "\n",
    "print(f\"current age is {calculate_age(1991)}\");\n",
    "\n",
    "\n"
   ]
  },
  {
   "cell_type": "code",
   "execution_count": null,
   "id": "19cc14e9",
   "metadata": {},
   "outputs": [],
   "source": [
    "#pip install --> to install packages on the pypi library\n",
    "#example done: pip install meteomoris\n",
    "#sometimes we need to use pip3 install libraryname\n"
   ]
  },
  {
   "cell_type": "code",
   "execution_count": 8,
   "id": "e16b3796",
   "metadata": {},
   "outputs": [
    {
     "name": "stdout",
     "output_type": "stream",
     "text": [
      "Welcome to Mauritius Meteorological Services\n",
      "{'day': 'Sat', 'date': 'Jul 26', 'condition': 'Night showers mainly E and CP', 'min': '14°', 'max': '28°', 'wind': 'E20', 'sea condition': 'rough', 'probability': 'High'}\n"
     ]
    }
   ],
   "source": [
    "import meteomoris as mt\n",
    "\n",
    "print(mt.get_main_message())\n",
    "print(mt.get_today_forecast())"
   ]
  },
  {
   "cell_type": "code",
   "execution_count": null,
   "id": "a099b4f7",
   "metadata": {},
   "outputs": [],
   "source": []
  }
 ],
 "metadata": {
  "kernelspec": {
   "display_name": "Python 3",
   "language": "python",
   "name": "python3"
  },
  "language_info": {
   "codemirror_mode": {
    "name": "ipython",
    "version": 3
   },
   "file_extension": ".py",
   "mimetype": "text/x-python",
   "name": "python",
   "nbconvert_exporter": "python",
   "pygments_lexer": "ipython3",
   "version": "3.13.5"
  }
 },
 "nbformat": 4,
 "nbformat_minor": 5
}
