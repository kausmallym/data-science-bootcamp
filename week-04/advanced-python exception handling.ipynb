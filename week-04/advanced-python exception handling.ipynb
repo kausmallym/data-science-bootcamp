{
 "cells": [
  {
   "cell_type": "code",
   "execution_count": null,
   "id": "1f795fba",
   "metadata": {},
   "outputs": [
    {
     "name": "stdout",
     "output_type": "stream",
     "text": [
      "Program started\n"
     ]
    },
    {
     "ename": "ValueError",
     "evalue": "invalid literal for int() with base 10: 'abcd'",
     "output_type": "error",
     "traceback": [
      "\u001b[31m---------------------------------------------------------------------------\u001b[39m",
      "\u001b[31mValueError\u001b[39m                                Traceback (most recent call last)",
      "\u001b[36mCell\u001b[39m\u001b[36m \u001b[39m\u001b[32mIn[1]\u001b[39m\u001b[32m, line 3\u001b[39m\n\u001b[32m      1\u001b[39m \u001b[38;5;28mprint\u001b[39m(\u001b[33m\"\u001b[39m\u001b[33mProgram started\u001b[39m\u001b[33m\"\u001b[39m)\n\u001b[32m      2\u001b[39m x=\u001b[33m\"\u001b[39m\u001b[33mabcd\u001b[39m\u001b[33m\"\u001b[39m\n\u001b[32m----> \u001b[39m\u001b[32m3\u001b[39m y=\u001b[38;5;28;43mint\u001b[39;49m\u001b[43m(\u001b[49m\u001b[43mx\u001b[49m\u001b[43m)\u001b[49m\n\u001b[32m      4\u001b[39m \u001b[38;5;28mprint\u001b[39m(y)\n",
      "\u001b[31mValueError\u001b[39m: invalid literal for int() with base 10: 'abcd'"
     ]
    }
   ],
   "source": [
    "print(\"Program starts\")\n",
    "x=\"abcd\"\n",
    "y=int(x) # This will raise a ValueError because 'abcd' cannot be converted to an integer\n",
    "# The following line will not be executed due to the error above\n",
    "print(y)"
   ]
  },
  {
   "cell_type": "code",
   "execution_count": 2,
   "id": "7f928d5d",
   "metadata": {},
   "outputs": [
    {
     "name": "stdout",
     "output_type": "stream",
     "text": [
      "Program starts\n",
      "Error occured\n"
     ]
    }
   ],
   "source": [
    "try:\n",
    "    print(\"Program starts\")\n",
    "    x=\"abcd\"\n",
    "    y=int(x) # This will raise a ValueError because 'abcd' cannot be converted to an integer\n",
    "    # The following line will not be executed due to the error above\n",
    "    print(y)\n",
    "except:\n",
    "    print(\"Error occured\")"
   ]
  },
  {
   "cell_type": "code",
   "execution_count": 3,
   "id": "80107a39",
   "metadata": {},
   "outputs": [
    {
     "name": "stdout",
     "output_type": "stream",
     "text": [
      "Program starts\n",
      "Error occured: invalid literal for int() with base 10: 'abcd'\n"
     ]
    }
   ],
   "source": [
    "try:\n",
    "    print(\"Program starts\")\n",
    "    x=\"abcd\"\n",
    "    y=int(x) # This will raise a ValueError because 'abcd' cannot be converted to an integer\n",
    "    # The following line will not be executed due to the error above\n",
    "    print(y)\n",
    "except Exception as e:\n",
    "    print(f\"Error occured: {e}\")"
   ]
  },
  {
   "cell_type": "code",
   "execution_count": 4,
   "id": "d53c207d",
   "metadata": {},
   "outputs": [
    {
     "name": "stdout",
     "output_type": "stream",
     "text": [
      "Error occured: division by zero\n"
     ]
    }
   ],
   "source": [
    "try:\n",
    "    a=10\n",
    "    b=0\n",
    "    c=a/b\n",
    "except Exception as e:\n",
    "    print(f\"Error occured: {e}\")"
   ]
  },
  {
   "cell_type": "code",
   "execution_count": null,
   "id": "e9f5d22e",
   "metadata": {},
   "outputs": [
    {
     "name": "stdout",
     "output_type": "stream",
     "text": [
      "[Errno 2] No such file or directory: 'myfile.txt'\n",
      "This code always runs irrespective of whether error occured or not\n"
     ]
    }
   ],
   "source": [
    "try:\n",
    "    file = open(\"myfile.txt\", \"r\") #file does not exist\n",
    "except Exception as e:\n",
    "    print(str(e))\n",
    "\n",
    "finally: #executed regardless of errors or not\n",
    "    #file.close()\n",
    "    print(\"This code always runs irrespective of whether error occured or not\")"
   ]
  },
  {
   "cell_type": "code",
   "execution_count": null,
   "id": "680be658",
   "metadata": {},
   "outputs": [
    {
     "name": "stdout",
     "output_type": "stream",
     "text": [
      "Invalid input\n"
     ]
    }
   ],
   "source": [
    "\"\"\"\n",
    "In addition to the **`try`**, **`except`**, and **`finally`** blocks, Python also has an **`else`** block that can be used in exception handling.\n",
    "The **`else`** block is executed **if no exceptions were raised** in the **`try`** block. It is typically used for code that should be executed only if the **`try`** block succeeds.\n",
    "\"\"\"\n",
    "try:\n",
    "    x = int(input(\"Enter a number: \"))\n",
    "    y = int(input(\"Enter another number: \"))\n",
    "except ValueError: #Catching specific exception\n",
    "    print(\"Invalid input\")\n",
    "else:               #Using else, executed only when there is no error\n",
    "    print(\"The sum is:\", x + y)\n",
    "\n",
    "#full list of python built-in exceptions\n",
    "#https://www.w3schools.com/python/python_ref_exceptions.asp\n",
    "#other example: ZeroDivisionError"
   ]
  }
 ],
 "metadata": {
  "kernelspec": {
   "display_name": "Python 3",
   "language": "python",
   "name": "python3"
  },
  "language_info": {
   "codemirror_mode": {
    "name": "ipython",
    "version": 3
   },
   "file_extension": ".py",
   "mimetype": "text/x-python",
   "name": "python",
   "nbconvert_exporter": "python",
   "pygments_lexer": "ipython3",
   "version": "3.13.5"
  }
 },
 "nbformat": 4,
 "nbformat_minor": 5
}
