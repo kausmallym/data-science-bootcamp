{
 "cells": [
  {
   "cell_type": "code",
   "execution_count": null,
   "id": "19f8a4d4",
   "metadata": {},
   "outputs": [],
   "source": [
    "#Functions\n",
    "\n",
    "def greet(name):\n",
    "    print(f\"Hello, {name}!\")"
   ]
  },
  {
   "cell_type": "code",
   "execution_count": null,
   "id": "24033de9",
   "metadata": {},
   "outputs": [
    {
     "name": "stdout",
     "output_type": "stream",
     "text": [
      "Hello, Alice!\n"
     ]
    }
   ],
   "source": [
    "#Calling a function\n",
    "greet(\"Alice\")"
   ]
  },
  {
   "cell_type": "code",
   "execution_count": 4,
   "id": "5f4b3c6b",
   "metadata": {},
   "outputs": [
    {
     "name": "stdout",
     "output_type": "stream",
     "text": [
      "5\n"
     ]
    }
   ],
   "source": [
    "#Return Values\n",
    "def add_numbers(a, b):\n",
    "    return a + b\n",
    "\n",
    "result = add_numbers(2,3);\n",
    "print(result);"
   ]
  },
  {
   "cell_type": "code",
   "execution_count": null,
   "id": "ac839745",
   "metadata": {},
   "outputs": [
    {
     "name": "stdout",
     "output_type": "stream",
     "text": [
      "Hello, Alice!\n",
      "Hello, John!\n"
     ]
    }
   ],
   "source": [
    "#Default Parameters\n",
    "def greet(name=\"John\"):\n",
    "    print(f\"Hello, {name}!\")\n",
    "\n",
    "greet(\"Alice\");\n",
    "greet();"
   ]
  },
  {
   "cell_type": "code",
   "execution_count": null,
   "id": "b1a1fd68",
   "metadata": {},
   "outputs": [
    {
     "name": "stdout",
     "output_type": "stream",
     "text": [
      "15\n"
     ]
    }
   ],
   "source": [
    "#Variable-Length Arguments\n",
    "\n",
    "def add_numbers(*args):\n",
    "    total = 0;\n",
    "    for num in args:\n",
    "        total+=num\n",
    "    return total;\n",
    "\n",
    "result = add_numbers(1,2,3,4,5);\n",
    "print(result);"
   ]
  },
  {
   "cell_type": "code",
   "execution_count": null,
   "id": "6ce603a4",
   "metadata": {},
   "outputs": [
    {
     "name": "stdout",
     "output_type": "stream",
     "text": [
      "hello\n"
     ]
    }
   ],
   "source": [
    "#Keyword Arguments\n",
    "def greet(name, greeting=\"hello\"):\n",
    "    print(f\"{greeting}\")\n",
    "\n",
    "greet(\"aaaaddd\")"
   ]
  },
  {
   "cell_type": "code",
   "execution_count": null,
   "id": "2ef0f4a1",
   "metadata": {},
   "outputs": [
    {
     "name": "stdout",
     "output_type": "stream",
     "text": [
      "The area of triangle = 18.0\n"
     ]
    }
   ],
   "source": [
    "\"\"\"\n",
    "Practical\n",
    "1. Define a function called **`calculate_triangle_area`** that takes in two arguments:\n",
    "    1. base: the base length of a triangle\n",
    "    2. height: the height of a triangle\n",
    "2. Inside the function, calculate the area of the triangle using the formula: **`0.5 * base * height`**\n",
    "3. Return the calculated area\n",
    "4. Call the function with base = 5 and height = 10 and print out the result\n",
    "\"\"\"\n",
    "\n",
    "def calculate_triangle_area(base, height):\n",
    "    return 0.5 * base * height;\n",
    "\n",
    "areaOfTriangle = calculate_triangle_area(4,9);\n",
    "print(f\"The area of triangle = {areaOfTriangle}\");"
   ]
  }
 ],
 "metadata": {
  "kernelspec": {
   "display_name": "Python 3",
   "language": "python",
   "name": "python3"
  },
  "language_info": {
   "codemirror_mode": {
    "name": "ipython",
    "version": 3
   },
   "file_extension": ".py",
   "mimetype": "text/x-python",
   "name": "python",
   "nbconvert_exporter": "python",
   "pygments_lexer": "ipython3",
   "version": "3.13.5"
  }
 },
 "nbformat": 4,
 "nbformat_minor": 5
}
