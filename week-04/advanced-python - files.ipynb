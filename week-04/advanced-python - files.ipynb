{
 "cells": [
  {
   "cell_type": "code",
   "execution_count": 2,
   "id": "4de7e1c0",
   "metadata": {},
   "outputs": [],
   "source": [
    "#Open the file in write mode and write a sample text to it\n",
    "file = open(\"my_file.txt\", \"w\"); #If the file does not exist, it will be created.\n",
    "file.write(\"Hello, this is a sample text file.\\n\");\n",
    "file.close();"
   ]
  },
  {
   "cell_type": "code",
   "execution_count": 4,
   "id": "22a83a0f",
   "metadata": {},
   "outputs": [
    {
     "name": "stdout",
     "output_type": "stream",
     "text": [
      "Hello, this is a sample text file.\n",
      "\n"
     ]
    }
   ],
   "source": [
    "#Open the file in read mode and read its content\n",
    "file = open(\"my_file.txt\", \"r\"); #Open the file in read mode\n",
    "content = file.read(); #Read the content of the file\n",
    "print(content); #Print the content of the file\n",
    "file.close(); #Close the file"
   ]
  },
  {
   "cell_type": "code",
   "execution_count": 7,
   "id": "cc6f21c6",
   "metadata": {},
   "outputs": [],
   "source": [
    "file = open(\"my_file.txt\", \"a\"); #Open the file in append mode\n",
    "file.write(\"This line is appended to the end of the file.\\n\"); #Append a new line to the file\n",
    "file.close(); #Close the file"
   ]
  },
  {
   "cell_type": "code",
   "execution_count": 8,
   "id": "5d82647e",
   "metadata": {},
   "outputs": [
    {
     "name": "stdout",
     "output_type": "stream",
     "text": [
      "Hello, this is a sample text file.\n",
      "This line is appended to the end of the file.\n",
      "\n"
     ]
    }
   ],
   "source": [
    "#Open the file in read mode and read its content\n",
    "file = open(\"my_file.txt\", \"r\"); #Open the file in read mode\n",
    "content = file.read(); #Read the content of the file\n",
    "print(content); #Print the content of the file\n",
    "file.close(); #Close the file"
   ]
  },
  {
   "cell_type": "code",
   "execution_count": null,
   "id": "d1645fd4",
   "metadata": {},
   "outputs": [],
   "source": []
  }
 ],
 "metadata": {
  "kernelspec": {
   "display_name": "Python 3",
   "language": "python",
   "name": "python3"
  },
  "language_info": {
   "codemirror_mode": {
    "name": "ipython",
    "version": 3
   },
   "file_extension": ".py",
   "mimetype": "text/x-python",
   "name": "python",
   "nbconvert_exporter": "python",
   "pygments_lexer": "ipython3",
   "version": "3.13.5"
  }
 },
 "nbformat": 4,
 "nbformat_minor": 5
}
